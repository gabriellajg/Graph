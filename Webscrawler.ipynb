{
 "cells": [
  {
   "cell_type": "markdown",
   "id": "ab562e83-fceb-4984-9e70-d15e75b9bb60",
   "metadata": {},
   "source": [
    "# Import the dependencies"
   ]
  },
  {
   "cell_type": "code",
   "execution_count": 81,
   "id": "c482937e-3a8e-4179-9ed1-7f661da49e81",
   "metadata": {},
   "outputs": [],
   "source": [
    "import requests\n",
    "#from urllib3 import Request, urlopen\n",
    "from selenium import webdriver\n",
    "from bs4 import BeautifulSoup\n",
    "from datetime import datetime, timedelta\n",
    "import pandas as pd\n",
    "import numpy as np\n",
    "import time\n",
    "import random\n",
    "import os\n",
    "import json\n",
    "import csv"
   ]
  },
  {
   "cell_type": "code",
   "execution_count": 33,
   "id": "9d17b0c4-4ff2-4ab9-9bb3-c610d054b604",
   "metadata": {},
   "outputs": [],
   "source": [
    "def get_soup(url):\n",
    "    \"\"\"\n",
    "    This function get the beautifulsoup object of a webpage.\n",
    "\n",
    "    Args:\n",
    "        url (str): the link string of webpage\n",
    "\n",
    "    Returns:\n",
    "        soup (obj): beautifulsoup object\n",
    "    \"\"\"\n",
    "    req = requests.get(url)\n",
    "    return BeautifulSoup(req.text, \"lxml\") #html.parser"
   ]
  },
  {
   "cell_type": "code",
   "execution_count": 40,
   "id": "ddb17f10-7dde-47ab-acbb-2b4b937c6bec",
   "metadata": {},
   "outputs": [],
   "source": [
    "def get_data(soup):\n",
    "    Product = soup.find_all('a', {\"data-test\": \"product-leaf-title-link\"})\n",
    "    Prices = soup.find_all('span', {\"class\": \"Text__BaseText-sc-178efqu-0 hAIVnp ProductPricestyles__StyledText-vmt0i4-0 eGdbAY\"})\n",
    "    df = pd.DataFrame({'Product': [p.text for p in Product],\n",
    "                       'Price': [p.text.strip('Price') for p in Prices]})\n",
    "    return df"
   ]
  },
  {
   "cell_type": "code",
   "execution_count": 78,
   "id": "2173b691-8ea1-4851-88d5-7a4f5b0459dd",
   "metadata": {},
   "outputs": [],
   "source": [
    "themes = ['architecture','brickheadz','classic','disney','friends','harry-potter','ideas','minecraft','super-mario','speed-champions']"
   ]
  },
  {
   "cell_type": "code",
   "execution_count": 79,
   "id": "4056bb54-2233-42e6-9fff-dc2d7dbe51b6",
   "metadata": {},
   "outputs": [
    {
     "data": {
      "text/html": [
       "<div>\n",
       "<style scoped>\n",
       "    .dataframe tbody tr th:only-of-type {\n",
       "        vertical-align: middle;\n",
       "    }\n",
       "\n",
       "    .dataframe tbody tr th {\n",
       "        vertical-align: top;\n",
       "    }\n",
       "\n",
       "    .dataframe thead th {\n",
       "        text-align: right;\n",
       "    }\n",
       "</style>\n",
       "<table border=\"1\" class=\"dataframe\">\n",
       "  <thead>\n",
       "    <tr style=\"text-align: right;\">\n",
       "      <th></th>\n",
       "      <th>Product</th>\n",
       "      <th>Price</th>\n",
       "    </tr>\n",
       "  </thead>\n",
       "  <tbody>\n",
       "    <tr>\n",
       "      <th>0</th>\n",
       "      <td>Statue of Liberty</td>\n",
       "      <td>$119.99</td>\n",
       "    </tr>\n",
       "    <tr>\n",
       "      <th>1</th>\n",
       "      <td>Taj Mahal</td>\n",
       "      <td>$119.99</td>\n",
       "    </tr>\n",
       "    <tr>\n",
       "      <th>2</th>\n",
       "      <td>The White House</td>\n",
       "      <td>$99.99</td>\n",
       "    </tr>\n",
       "    <tr>\n",
       "      <th>3</th>\n",
       "      <td>New York City</td>\n",
       "      <td>$59.99</td>\n",
       "    </tr>\n",
       "    <tr>\n",
       "      <th>4</th>\n",
       "      <td>Singapore</td>\n",
       "      <td>$59.99</td>\n",
       "    </tr>\n",
       "    <tr>\n",
       "      <th>...</th>\n",
       "      <td>...</td>\n",
       "      <td>...</td>\n",
       "    </tr>\n",
       "    <tr>\n",
       "      <th>6</th>\n",
       "      <td>Koenigsegg Jesko</td>\n",
       "      <td>$19.99</td>\n",
       "    </tr>\n",
       "    <tr>\n",
       "      <th>7</th>\n",
       "      <td>Lamborghini Countach</td>\n",
       "      <td>$19.99</td>\n",
       "    </tr>\n",
       "    <tr>\n",
       "      <th>8</th>\n",
       "      <td>Lotus Evija</td>\n",
       "      <td>$19.99</td>\n",
       "    </tr>\n",
       "    <tr>\n",
       "      <th>9</th>\n",
       "      <td>McLaren Elva</td>\n",
       "      <td>$19.99</td>\n",
       "    </tr>\n",
       "    <tr>\n",
       "      <th>10</th>\n",
       "      <td>Toyota GR Supra</td>\n",
       "      <td>$19.99</td>\n",
       "    </tr>\n",
       "  </tbody>\n",
       "</table>\n",
       "<p>159 rows × 2 columns</p>\n",
       "</div>"
      ],
      "text/plain": [
       "                 Product    Price\n",
       "0      Statue of Liberty  $119.99\n",
       "1              Taj Mahal  $119.99\n",
       "2        The White House   $99.99\n",
       "3          New York City   $59.99\n",
       "4              Singapore   $59.99\n",
       "..                   ...      ...\n",
       "6       Koenigsegg Jesko   $19.99\n",
       "7   Lamborghini Countach   $19.99\n",
       "8            Lotus Evija   $19.99\n",
       "9           McLaren Elva   $19.99\n",
       "10       Toyota GR Supra   $19.99\n",
       "\n",
       "[159 rows x 2 columns]"
      ]
     },
     "execution_count": 79,
     "metadata": {},
     "output_type": "execute_result"
    }
   ],
   "source": [
    "data = pd.DataFrame()\n",
    "for theme in themes:\n",
    "    url = f\"https://www.lego.com/en-us/themes/{theme}\"\n",
    "    soup = get_soup(url)\n",
    "    df = get_data(soup)    \n",
    "    data = pd.concat([data, df],axis=0)\n",
    "data"
   ]
  },
  {
   "cell_type": "code",
   "execution_count": 80,
   "id": "41b331c1-90f6-4bba-b6eb-33b96a75addb",
   "metadata": {},
   "outputs": [
    {
     "data": {
      "text/plain": [
       "(159, 2)"
      ]
     },
     "execution_count": 80,
     "metadata": {},
     "output_type": "execute_result"
    }
   ],
   "source": [
    "data.head()"
   ]
  },
  {
   "cell_type": "code",
   "execution_count": 88,
   "id": "c70534e1-cd36-402b-850f-61378e53788b",
   "metadata": {},
   "outputs": [],
   "source": [
    "data.to_csv('Sample_data.csv')"
   ]
  },
  {
   "cell_type": "code",
   "execution_count": 85,
   "id": "3a121b79-ff63-4c3b-9adc-bde99217105c",
   "metadata": {},
   "outputs": [
    {
     "data": {
      "text/plain": [
       "<title data-test=\"title-tag\">LEGO® Speed Champions Toys | Official LEGO® Shop US </title>"
      ]
     },
     "execution_count": 85,
     "metadata": {},
     "output_type": "execute_result"
    }
   ],
   "source": [
    "#Ratings = soup.find_all('div', {\"class\": \"RatingBarstyles__RatingContainer-sc-11ujyfe-2 fgbdIf\"})\n",
    "Ratings = soup.find('title')\n",
    "Ratings"
   ]
  }
 ],
 "metadata": {
  "kernelspec": {
   "display_name": "Python 3 (ipykernel)",
   "language": "python",
   "name": "python3"
  },
  "language_info": {
   "codemirror_mode": {
    "name": "ipython",
    "version": 3
   },
   "file_extension": ".py",
   "mimetype": "text/x-python",
   "name": "python",
   "nbconvert_exporter": "python",
   "pygments_lexer": "ipython3",
   "version": "3.10.4"
  }
 },
 "nbformat": 4,
 "nbformat_minor": 5
}
